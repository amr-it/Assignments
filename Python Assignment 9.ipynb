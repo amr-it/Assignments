{
 "cells": [
  {
   "cell_type": "markdown",
   "id": "2b4fb117",
   "metadata": {},
   "source": [
    "1. To what does a relative path refer?\n",
    "\n",
    "They are relative to the current working directory.\n",
    "\n",
    "2. What does an absolute path start with your operating system?\n",
    "\n",
    "Absolute paths start with the root folder, such as D:\\\n",
    "\n",
    "3. What do the functions os.getcwd() and os.chdir() do?\n",
    "\n",
    "os.getcwd tells you the current working directory, while, os.chdir() changes the current working directory.\n",
    "\n",
    "4. What are the . and .. folders?\n",
    "\n",
    ". folder is the current folder and .. folder is the parent folder.\n",
    "\n",
    "5. In C:\\bacon\\eggs\\spam.txt, which part is the dir name, and which part is the base name?\n",
    "\n",
    "C:\\\\bacon\\eggs is dir name and spam.txt is the base name.\n",
    "\n",
    "6. What are the three “mode” arguments that can be passed to the open() function?\n",
    "\n",
    "r is for read mode, w is for write mode & a is for append mode.\n",
    "\n",
    "7. What happens if an existing file is opened in write mode?\n",
    "\n",
    "That files contents are erased and completely overridden.\n",
    "\n",
    "8. How do you tell the difference between read() and readlines()?\n",
    "\n",
    "read() gives files entire content as single string value, while, readlines() returns a list of strings, where each string is a line from the file's contents.\n",
    "\n",
    "9. What data structure does a shelf value resemble?\n",
    "\n",
    "A shelf value resembles a dictionary value. It has keys and values and also has keys() and values() methods that work similarly to the dictionary methods of the same names."
   ]
  }
 ],
 "metadata": {
  "kernelspec": {
   "display_name": "Python 3 (ipykernel)",
   "language": "python",
   "name": "python3"
  },
  "language_info": {
   "codemirror_mode": {
    "name": "ipython",
    "version": 3
   },
   "file_extension": ".py",
   "mimetype": "text/x-python",
   "name": "python",
   "nbconvert_exporter": "python",
   "pygments_lexer": "ipython3",
   "version": "3.9.13"
  }
 },
 "nbformat": 4,
 "nbformat_minor": 5
}
